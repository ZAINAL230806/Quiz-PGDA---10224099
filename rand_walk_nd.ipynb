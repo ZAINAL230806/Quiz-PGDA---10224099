{
  "nbformat": 4,
  "nbformat_minor": 0,
  "metadata": {
    "colab": {
      "provenance": []
    },
    "kernelspec": {
      "name": "python3",
      "display_name": "Python 3"
    },
    "language_info": {
      "name": "python"
    }
  },
  "cells": [
    {
      "cell_type": "markdown",
      "source": [
        "random walk n-d\n",
        "assignment 5\n",
        "Explain the influence of Nrep to value of mean distance in 1-d random walk.\n",
        "Explain the influence of Nrep to value of mean distance in 2-d random walk.\n",
        "Explain the influence of Nrep to value of mean squared distance in 1-d random walk.\n",
        "Explain the influence of Nrep to value of mean squared distance in 2-d random walk.\n",
        "Summerize and generalize the influence of Nrep to value of mean distance and mean squared distance in n-d random walk."
      ],
      "metadata": {
        "id": "05YorhvodA3w"
      }
    },
    {
      "cell_type": "markdown",
      "source": [
        "\n",
        "\n",
        "# **Assignment 5 – Random Walk n-D**\n",
        "\n",
        "## **1. Pengaruh Nrep terhadap Mean Distance pada 1-D Random Walk**\n",
        "\n",
        "Pada random walk satu dimensi (1D), partikel hanya dapat bergerak ke kanan atau ke kiri setiap langkah. Nilai mean distance (⟨|x|⟩) menunjukkan jarak rata-rata partikel dari titik asal setelah sejumlah langkah.\n",
        "\n",
        "Untuk Nrep kecil, hasil simulasi menunjukkan fluktuasi besar karena sampling acak masih terbatas. Ketika Nrep meningkat, nilai rata-rata menjadi lebih stabil dan mendekati nilai teoritis:\n",
        "\n",
        "⟨|x|⟩ ≈ √(2Nstep / π)\n",
        "\n",
        "Artinya, semakin banyak percobaan acak (Nrep besar), hasil rata-rata jarak mendekati nilai ekspektasi teoritis dengan deviasi yang lebih kecil.\n",
        "\n",
        "\n",
        "## **2. Pengaruh Nrep terhadap Mean Distance pada 2-D Random Walk**\n",
        "\n",
        "Pada random walk dua dimensi (2D), partikel dapat bergerak ke empat arah (atas, bawah, kiri, kanan). Nilai mean distance (⟨r⟩) dihitung dari rata-rata jarak Euclidean partikel terhadap titik asal.\n",
        "\n",
        "r = √(x² + y²)\n",
        "\n",
        "Untuk Nrep kecil, kurva ⟨r⟩ berfluktuasi karena arah langkah acak belum terwakili dengan baik. Saat Nrep diperbesar, nilai ⟨r⟩ semakin halus dan mengikuti hubungan mendekati linear dengan akar jumlah langkah:\n",
        "\n",
        "⟨r⟩ ∝ √Nstep\n",
        "\n",
        "Jadi, peningkatan Nrep memperkecil noise statistik dan menghasilkan kurva rata-rata yang konsisten dengan teori difusi acak dua dimensi.\n",
        "\n",
        "\n",
        "## **3. Pengaruh Nrep terhadap Mean Squared Distance pada 1-D Random Walk**\n",
        "\n",
        "Pada 1D random walk, mean squared distance (⟨x²⟩) menggambarkan seberapa jauh rata-rata kuadrat posisi partikel dari titik asal.\n",
        "\n",
        "Secara teoritis:\n",
        "⟨x²⟩ = Nstep\n",
        "\n",
        "Untuk Nrep kecil, nilai ⟨x²⟩ masih menyimpang dari garis linear teoritis karena variasi acak besar. Saat Nrep meningkat, hasil simulasi mendekati fungsi linear tersebut — menandakan bahwa rata-rata statistik semakin akurat.\n",
        "\n",
        "Dengan demikian, semakin besar Nrep, semakin kecil kesalahan statistik (*statistical noise*) dan hasil semakin linear terhadap jumlah langkah.\n",
        "\n",
        "\n",
        "## **4. Pengaruh Nrep terhadap Mean Squared Distance pada 2-D Random Walk**\n",
        "\n",
        "Untuk random walk dua dimensi:\n",
        "\n",
        "⟨r²⟩ = ⟨x² + y²⟩ = 2Nstep\n",
        "\n",
        "Ketika Nrep kecil, kurva ⟨r²⟩ berfluktuasi dan tidak stabil karena arah gerak acak belum cukup di-*sampling*. Ketika Nrep besar, kurva ⟨r²⟩ menjadi halus dan mengikuti hubungan linear dengan jumlah langkah. Dengan kata lain, fluktuasi menurun dengan 1/√Nrep, sesuai hukum bilangan besar (*law of large numbers*).\n",
        "\n",
        "\n",
        "\n",
        "## **5. Kesimpulan Umum untuk Random Walk n-D**\n",
        "\n",
        "**Tren umum:**\n",
        "\n",
        "* Mean Distance ⟨r⟩ ∝ √Nstep → semakin besar Nrep, hasil lebih stabil dan mendekati √Nstep.\n",
        "* Mean Squared Distance ⟨r²⟩ ∝ Nstep → semakin besar Nrep, kurva semakin linear dan fluktuasi menurun.\n",
        "\n",
        "**Generalisasi untuk n dimensi (n-D):**\n",
        "⟨r²⟩ = n × Nstep\n",
        "⟨r⟩ ∝ √(n × Nstep)\n",
        "\n",
        "Secara statistik, peningkatan Nrep menurunkan *random noise* sekitar ∝ 1/√Nrep. Hasil simulasi akan konvergen menuju nilai ekspektasi teoritis ketika Nrep → ∞.\n",
        "\n",
        "\n",
        "## **Referensi**\n",
        "\n",
        "1. Einstein, A. (1905). *On the Movement of Small Particles Suspended in Stationary Liquids Required by the Molecular-Kinetic Theory of Heat.* Annalen der Physik, 17, 549–560.\n",
        "2. Feller, W. (1968). *An Introduction to Probability Theory and Its Applications, Vol. 1.* Wiley.\n",
        "3. Weisstein, Eric W. *“Random Walk (n-Dimensional)”*, MathWorld – Wolfram Web Resource.\n",
        "   [https://mathworld.wolfram.com/RandomWalkNDimensional.html](https://mathworld.wolfram.com/RandomWalkNDimensional.html)\n",
        "\n"
      ],
      "metadata": {
        "id": "pMCHoU_zcoDL"
      }
    }
  ]
}